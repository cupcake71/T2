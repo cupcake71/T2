{
 "cells": [
  {
   "cell_type": "code",
   "execution_count": 1,
   "metadata": {},
   "outputs": [],
   "source": [
    "# SQLLite database created online https://sqliteonline.com and then exported to the same folder"
   ]
  },
  {
   "cell_type": "code",
   "execution_count": 2,
   "metadata": {},
   "outputs": [
    {
     "name": "stdout",
     "output_type": "stream",
     "text": [
      "Requirement already satisfied: db-sqlite3 in /opt/anaconda3/lib/python3.7/site-packages (0.0.1)\n",
      "Requirement already satisfied: db in /opt/anaconda3/lib/python3.7/site-packages (from db-sqlite3) (0.1.1)\n",
      "Requirement already satisfied: antiorm in /opt/anaconda3/lib/python3.7/site-packages (from db->db-sqlite3) (1.2.1)\n",
      "Note: you may need to restart the kernel to use updated packages.\n"
     ]
    }
   ],
   "source": [
    "pip install db-sqlite3"
   ]
  },
  {
   "cell_type": "code",
   "execution_count": 3,
   "metadata": {},
   "outputs": [],
   "source": [
    "import sqlite3 as sql\n",
    "from sqlite3 import Error\n",
    "def create_connection():\n",
    "    conn= None\n",
    "    try:\n",
    "#        database = \"sqlite.db\"\n",
    "        database = \"Test.db\"\n",
    "        conn = sql.connect(database)\n",
    "        \n",
    "        sql_create_projects_table = \"\"\" CREATE TABLE IF NOT EXISTS scores (\n",
    "                                        firstname text,\n",
    "                                        secondname text,\n",
    "                                        score  integer\n",
    "                                    ); \"\"\"\n",
    "        if conn is not None:\n",
    "        # create projects table\n",
    "            c = conn.cursor()\n",
    "            c.execute(sql_create_projects_table)\n",
    "        else:\n",
    "            print(\"Error! cannot create the database connection.\")\n",
    "    except Error as e:\n",
    "        print(e)\n",
    "    return conn"
   ]
  },
  {
   "cell_type": "code",
   "execution_count": 4,
   "metadata": {},
   "outputs": [
    {
     "name": "stdout",
     "output_type": "stream",
     "text": [
      "<sqlite3.Connection object at 0x10cd713b0>\n"
     ]
    }
   ],
   "source": [
    "Y = create_connection()\n",
    "print(Y)"
   ]
  },
  {
   "cell_type": "code",
   "execution_count": 5,
   "metadata": {},
   "outputs": [],
   "source": [
    "def create_tasking(conn, task):\n",
    " \n",
    "    sql = ''' INSERT INTO scores(firstname,secondname,score)\n",
    "              VALUES(?,?,?) '''\n",
    "    cur = conn.cursor()\n",
    "    cur.execute(sql,task)\n",
    "    return cur.lastrowid"
   ]
  },
  {
   "cell_type": "code",
   "execution_count": 6,
   "metadata": {},
   "outputs": [],
   "source": [
    "# Creating a Table of Authorised Users\n",
    "import sqlite3 as sql\n",
    "from sqlite3 import Error\n",
    "def create_connection():\n",
    "    conn= None\n",
    "    try:\n",
    "#        database = \"sqlite.db\"\n",
    "        database = \"Test.db\"\n",
    "        conn = sql.connect(database)\n",
    "        \n",
    "        sql_create_projects_table = \"\"\" CREATE TABLE IF NOT EXISTS Authorised_Users (\n",
    "                                        firstname text,\n",
    "                                        secondname text\n",
    "                                    ); \"\"\"\n",
    "        if conn is not None:\n",
    "        # create projects table\n",
    "            c = conn.cursor()\n",
    "            c.execute(sql_create_projects_table)\n",
    "        else:\n",
    "            print(\"Error! cannot create the database connection.\")\n",
    "    except Error as e:\n",
    "        print(e)\n",
    "    return conn\n",
    "        "
   ]
  },
  {
   "cell_type": "code",
   "execution_count": 7,
   "metadata": {},
   "outputs": [
    {
     "name": "stdout",
     "output_type": "stream",
     "text": [
      "<sqlite3.Connection object at 0x10cd71490>\n"
     ]
    }
   ],
   "source": [
    "Y = create_connection()\n",
    "print(Y)"
   ]
  },
  {
   "cell_type": "code",
   "execution_count": 8,
   "metadata": {},
   "outputs": [],
   "source": [
    "def create_task(conn, task):\n",
    " \n",
    "    sql = ''' INSERT INTO Authorised_Users(firstname,secondname)\n",
    "              VALUES(?,?) '''\n",
    "    cur = conn.cursor()\n",
    "    cur.execute(sql,task)\n",
    "    return cur.lastrowid"
   ]
  },
  {
   "cell_type": "code",
   "execution_count": 9,
   "metadata": {},
   "outputs": [
    {
     "data": {
      "text/plain": [
       "3"
      ]
     },
     "execution_count": 9,
     "metadata": {},
     "output_type": "execute_result"
    }
   ],
   "source": [
    "# Inserting Authorised Users into the Table \n",
    "task = ('Charles','Babbage')\n",
    "create_task(Y,task)\n",
    "task = ('William','Shakespheare')\n",
    "create_task(Y,task)\n",
    "task = ('Ada','Lovelace')\n",
    "create_task(Y,task)"
   ]
  },
  {
   "cell_type": "code",
   "execution_count": 68,
   "metadata": {},
   "outputs": [],
   "source": [
    "# Only Allowing Authorised Users\n",
    "# Entry for 1st Players\n",
    "def Player_Entry_1(conn):\n",
    "        Active = True\n",
    "        while Active== True:\n",
    "            Firstname = input(\"Enter Firstname \")\n",
    "            Secondname = input(\"Enter Secondname \")\n",
    "            SQL_Statement = \"SELECT * FROM Authorised_Users WHERE Firstname = \" + '\"'+Firstname+'\"'+ \"AND Secondname = \"+'\"'+Secondname+'\"'\n",
    "            cur = conn.cursor()\n",
    "            cur.execute(SQL_Statement)\n",
    "            rows = cur.fetchall()\n",
    "            Number_of_rows = len(rows)\n",
    "            if Number_of_rows == 1:\n",
    "                Active=False\n",
    "            else:\n",
    "                print(\"Invalid Player. Try again\")\n",
    "    \n",
    "    \n",
    "        print(\"You have entered Player 1 details\")\n",
    "        return(Firstname,Secondname)\n",
    "\n",
    " \n",
    "\n",
    "\n",
    "\n"
   ]
  },
  {
   "cell_type": "code",
   "execution_count": 69,
   "metadata": {},
   "outputs": [
    {
     "name": "stdin",
     "output_type": "stream",
     "text": [
      "Enter Firstname  Ada\n",
      "Enter Secondname  Lovelace\n"
     ]
    },
    {
     "name": "stdout",
     "output_type": "stream",
     "text": [
      "You have entered Player 1 details\n",
      "Ada\n",
      "Lovelace\n"
     ]
    }
   ],
   "source": [
    "Player1_Firstname, Player1_Secondname = Player_Entry_1(Y)\n",
    "print(Player1_Firstname)\n",
    "print(Player1_Secondname)"
   ]
  },
  {
   "cell_type": "code",
   "execution_count": 70,
   "metadata": {},
   "outputs": [],
   "source": [
    "# Only Allowing Authorised Users\n",
    "# Entry for 2nd Player\n",
    "def Player_Entry_2(conn, F1, S1):\n",
    "        Active = True\n",
    "        while Active== True:\n",
    "            Firstname = input(\"Enter Firstname \")\n",
    "            Secondname = input(\"Enter Secondname \")\n",
    "            SQL_Statement_1 = \"SELECT * FROM Authorised_Users WHERE Firstname = \" \n",
    "            SQL_Statement_2 = '\"'+Firstname+'\"'+ \" AND Secondname = \"+'\"'+Secondname+'\"'\n",
    "            SQL_Statement_3 = \" AND Firstname != \" + '\"'+F1+'\"' \n",
    "            SQL_Statement_4 = \" AND Secondname != \" + '\"'+S1+'\"'\n",
    "        \n",
    "            \n",
    "            SQL_Statement = SQL_Statement_1 + SQL_Statement_2 + SQL_Statement_3 +SQL_Statement_4\n",
    "            \n",
    "            print(SQL_Statement)\n",
    "            cur = conn.cursor()\n",
    "            cur.execute(SQL_Statement)\n",
    "            rows = cur.fetchall()\n",
    "            Number_of_rows = len(rows)\n",
    "            if Number_of_rows == 1:\n",
    "                Active=False\n",
    "            else:\n",
    "                print(\"Invalid Player - either Name taken or Non-Existent. Try again\")\n",
    "    \n",
    "    \n",
    "        print(\"You have entered Player 2 details\")\n",
    "        return(Firstname,Secondname)\n",
    "\n"
   ]
  },
  {
   "cell_type": "code",
   "execution_count": 71,
   "metadata": {},
   "outputs": [
    {
     "name": "stdin",
     "output_type": "stream",
     "text": [
      "Enter Firstname  Charles\n",
      "Enter Secondname  Babbage\n"
     ]
    },
    {
     "name": "stdout",
     "output_type": "stream",
     "text": [
      "SELECT * FROM Authorised_Users WHERE Firstname = \"Charles\" AND Secondname = \"Babbage\" AND Firstname != \"Ada\" AND Secondname != \"Lovelace\"\n",
      "You have entered Player 2 details\n",
      "Charles\n",
      "Babbage\n"
     ]
    }
   ],
   "source": [
    "Player2_Firstname, Player2_Secondname = Player_Entry_2(Y, Player1_Firstname,Player1_Secondname)\n",
    "print(Player2_Firstname)\n",
    "print(Player2_Secondname)"
   ]
  },
  {
   "cell_type": "code",
   "execution_count": 72,
   "metadata": {},
   "outputs": [],
   "source": [
    "def Display_Winner(Firstname, Secondname, Score):\n",
    "    print(\"Winner of this Game is \", Firstname,\" \",Secondname,\" \",Score)\n",
    "    task = (Firstname,Secondname,Score)\n",
    "    create_tasking(Y,task)"
   ]
  },
  {
   "cell_type": "code",
   "execution_count": 73,
   "metadata": {},
   "outputs": [],
   "source": [
    "import random\n",
    "def Rolling_Dice():\n",
    "    Players_Scores = []\n",
    "    for Players in range(2): \n",
    "        Sum = 0\n",
    "        for Round in range(5):\n",
    "            Dice1 = random.randint(1,6)\n",
    "            Dice2 = random.randint(1,6)\n",
    "            Total = Dice1 + Dice2\n",
    "        \n",
    "        \n",
    "        \n",
    "            if Total%2 == 0:              # Even Number, than add 10 Points\n",
    "                Total = Total + 10\n",
    "            else:\n",
    "                Total = Total - 5           # Odd number, subtract 5 Points\n",
    "        \n",
    "        \n",
    "            if Dice1 == Dice2:\n",
    "                Dice3 = random.randint(1,6)\n",
    "                Total = Total + Dice3\n",
    "        \n",
    "            Sum = Sum + Total\n",
    "            if Sum < 0:\n",
    "                Sum = 0\n",
    "                \n",
    "        Players_Scores.append(Sum)\n",
    "        \n",
    "    print(Players_Scores)\n",
    "    \n",
    "    if Players_Scores[0] == Players_Scores[1]:\n",
    "        Who_wins = RollingAgain()\n",
    "        print(\"Player \", Who_wins)\n",
    "    elif Players_Scores[0] > Players_Scores[1]:\n",
    "        Who_wins = \"Player1_Wins\"\n",
    "    else:\n",
    "        Who_wins = \"Player2_Wins\"\n",
    "    \n",
    "    \n",
    "    if Who_wins == \"Player1_Wins\":\n",
    "        Display_Winner(Player1_Firstname, Player1_Secondname,Sum)\n",
    "    else:\n",
    "        Display_Winner(Player2_Firstname,Player2_Secondname,Sum)\n",
    "        \n",
    "        \n",
    "    "
   ]
  },
  {
   "cell_type": "code",
   "execution_count": 74,
   "metadata": {},
   "outputs": [
    {
     "name": "stdout",
     "output_type": "stream",
     "text": [
      "[80, 60]\n",
      "Winner of this Game is  Ada   Lovelace   60\n"
     ]
    }
   ],
   "source": [
    "Rolling_Dice()"
   ]
  },
  {
   "cell_type": "code",
   "execution_count": null,
   "metadata": {},
   "outputs": [],
   "source": []
  },
  {
   "cell_type": "code",
   "execution_count": 75,
   "metadata": {},
   "outputs": [],
   "source": [
    "import random\n",
    "def RollingAgain():\n",
    "    Active = True\n",
    "    while Active == True:\n",
    "        Player1_Roll = random.randint(1,6)\n",
    "        Player2_Roll = random.randint(1,6)\n",
    "        if Player1_Roll != Player2_Roll:\n",
    "            Active = False\n",
    "    \n",
    "    if Player1_Roll > Player2_Roll:\n",
    "        return(\"Player1_Wins\")\n",
    "    else:\n",
    "        return(\"Player2_Wins\")\n",
    "        \n",
    "    "
   ]
  },
  {
   "cell_type": "code",
   "execution_count": 76,
   "metadata": {},
   "outputs": [],
   "source": [
    "def select_all_tasks(conn):\n",
    "    cur = conn.cursor()\n",
    "    cur.execute(\"SELECT * FROM scores ORDER BY score desc limit 5\")\n",
    " \n",
    "    rows = cur.fetchall()\n",
    " \n",
    "    for row in rows:\n",
    "        print(row)\n"
   ]
  },
  {
   "cell_type": "code",
   "execution_count": 77,
   "metadata": {},
   "outputs": [
    {
     "name": "stdout",
     "output_type": "stream",
     "text": [
      "('William', 'Shakespheare', 85)\n",
      "('Ada', 'Lovelace', 60)\n",
      "('William', 'Shakespheare', 59)\n",
      "('Charles', 'Babbage', 47)\n",
      "('Ada', 'Shakespheare', 28)\n"
     ]
    }
   ],
   "source": [
    "select_all_tasks(Y)"
   ]
  },
  {
   "cell_type": "code",
   "execution_count": null,
   "metadata": {},
   "outputs": [],
   "source": []
  },
  {
   "cell_type": "code",
   "execution_count": null,
   "metadata": {},
   "outputs": [],
   "source": []
  }
 ],
 "metadata": {
  "kernelspec": {
   "display_name": "Python 3",
   "language": "python",
   "name": "python3"
  },
  "language_info": {
   "codemirror_mode": {
    "name": "ipython",
    "version": 3
   },
   "file_extension": ".py",
   "mimetype": "text/x-python",
   "name": "python",
   "nbconvert_exporter": "python",
   "pygments_lexer": "ipython3",
   "version": "3.7.4"
  }
 },
 "nbformat": 4,
 "nbformat_minor": 4
}
